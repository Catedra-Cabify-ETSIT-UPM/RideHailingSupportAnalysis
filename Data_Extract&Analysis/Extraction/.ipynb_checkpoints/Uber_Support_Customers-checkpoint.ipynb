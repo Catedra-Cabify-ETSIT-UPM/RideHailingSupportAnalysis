{
 "cells": [
  {
   "cell_type": "code",
   "execution_count": null,
   "metadata": {},
   "outputs": [],
   "source": [
    "!pip3 install --user --upgrade git+https://github.com/twintproject/twint.git@origin/master#egg=twint\n"
   ]
  },
  {
   "cell_type": "code",
   "execution_count": null,
   "metadata": {},
   "outputs": [],
   "source": [
    "import glob\n",
    "import time\n",
    "import twint\n",
    "import pandas as pd\n",
    "import nest_asyncio\n",
    "nest_asyncio.apply()\n",
    "\n",
    "time_start = time.time()\n",
    "\n",
    "# Fui de 4 en 4 meses por la RAM\n",
    "\n",
    "#c.Hide_output\n",
    "c = twint.Config()\n",
    "c.Lang = \"en\"\n",
    "c.Search = \"@Uber_Support\"\n",
    "c.Since = '2020-01-01' \n",
    "c.Until = '2020-12-31'\n",
    "#c.Location = True\n",
    "c.Pandas = True\n",
    "c.Store_pandas = True\n",
    "c.Pandas_au = True\n",
    "c.Pandas_clean = False\n",
    "twint.run.Search(c)   # run search\n",
    "\n",
    "# store in data frame\n",
    "tweets_df = twint.storage.panda.Tweets_df\n",
    "\n",
    "print('Tweet Scraping done! Time elapsed: {} seconds'.format(time.time()-time_start))\n",
    "print('{} tweets scraped'.format(len(tweets_df)))\n",
    "\n",
    "tweets_df.to_csv(r'uberClients1', index=False, header=True)\n"
   ]
  }
 ],
 "metadata": {
  "kernelspec": {
   "display_name": "Python 3",
   "language": "python",
   "name": "python3"
  },
  "language_info": {
   "codemirror_mode": {
    "name": "ipython",
    "version": 3
   },
   "file_extension": ".py",
   "mimetype": "text/x-python",
   "name": "python",
   "nbconvert_exporter": "python",
   "pygments_lexer": "ipython3",
   "version": "3.8.8"
  },
  "toc": {
   "base_numbering": 1,
   "nav_menu": {},
   "number_sections": true,
   "sideBar": true,
   "skip_h1_title": false,
   "title_cell": "Table of Contents",
   "title_sidebar": "Contents",
   "toc_cell": false,
   "toc_position": {},
   "toc_section_display": true,
   "toc_window_display": false
  },
  "varInspector": {
   "cols": {
    "lenName": 16,
    "lenType": 16,
    "lenVar": 40
   },
   "kernels_config": {
    "python": {
     "delete_cmd_postfix": "",
     "delete_cmd_prefix": "del ",
     "library": "var_list.py",
     "varRefreshCmd": "print(var_dic_list())"
    },
    "r": {
     "delete_cmd_postfix": ") ",
     "delete_cmd_prefix": "rm(",
     "library": "var_list.r",
     "varRefreshCmd": "cat(var_dic_list()) "
    }
   },
   "types_to_exclude": [
    "module",
    "function",
    "builtin_function_or_method",
    "instance",
    "_Feature"
   ],
   "window_display": false
  }
 },
 "nbformat": 4,
 "nbformat_minor": 2
}
