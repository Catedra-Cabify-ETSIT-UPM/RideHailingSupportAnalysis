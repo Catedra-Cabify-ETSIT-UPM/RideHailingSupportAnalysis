{
 "cells": [
  {
   "cell_type": "code",
   "execution_count": 28,
   "metadata": {},
   "outputs": [],
   "source": [
    "from scipy.optimize import Bounds\n",
    "import numpy as np\n",
    "from scipy.optimize import minimize\n",
    "import joblib\n",
    "import os\n",
    "\n",
    "from deap import base\n",
    "from deap import creator\n",
    "from deap import tools\n",
    "import matplotlib.pyplot as plt\n",
    "\n",
    "import random\n",
    "from time import time\n",
    "\n"
   ]
  },
  {
   "cell_type": "code",
   "execution_count": 2,
   "metadata": {},
   "outputs": [],
   "source": [
    "NUM_CLUSTERS = 7\n",
    "g = 800"
   ]
  },
  {
   "cell_type": "code",
   "execution_count": 3,
   "metadata": {},
   "outputs": [],
   "source": [
    "CLUSTER_DIM = 7 * NUM_CLUSTERS\n",
    "\n",
    "creator.create(\"FitnessMin\", base.Fitness, weights=(-1.0,))\n",
    "creator.create(\"Individual\", list, fitness=creator.FitnessMin)\n",
    "\n",
    "toolbox = base.Toolbox()\n",
    "\n",
    "toolbox.register(\"attr_flt\", random.uniform, 0, 1)\n",
    "toolbox.register(\"individual\", tools.initRepeat, creator.Individual, toolbox.attr_flt,n=CLUSTER_DIM)\n",
    "\n",
    "toolbox.register(\"population\", tools.initRepeat, list, toolbox.individual)\n",
    "\n",
    "matrix_np = joblib.load('matrix_np.pkl')\n",
    "matrix_algorithm = matrix_np\n",
    "\n"
   ]
  },
  {
   "cell_type": "markdown",
   "metadata": {},
   "source": [
    "# Create Folders"
   ]
  },
  {
   "cell_type": "code",
   "execution_count": 4,
   "metadata": {},
   "outputs": [
    {
     "name": "stdout",
     "output_type": "stream",
     "text": [
      "Successfully created the directory ./results/convergence/fobjQuadraticError/iteration800 \n"
     ]
    }
   ],
   "source": [
    "path = \"./results/convergence/fobjQuadraticError/iteration{}\".format(g)\n",
    "try:\n",
    "    if not os.path.isdir(path):\n",
    "        os.makedirs(path)\n",
    "except OSError:\n",
    "    print (\"Creation of the directory %s failed\" % path)\n",
    "else:\n",
    "    print (\"Successfully created the directory %s \" % path)"
   ]
  },
  {
   "cell_type": "markdown",
   "metadata": {},
   "source": [
    "# Define Functions"
   ]
  },
  {
   "cell_type": "code",
   "execution_count": 5,
   "metadata": {},
   "outputs": [],
   "source": [
    "def auxiliarFunction(documents, dimensions, number_topics):\n",
    "\n",
    "    counter_docs = [0 for x in range(0,number_topics)]\n",
    "    \n",
    "    distance_to_cluster_2 = [0 for x in range(0,number_topics)] # distances to cluster\n",
    "    \n",
    "    for document in documents: \n",
    "        distance_to_cluster = []   \n",
    "        counter = 0\n",
    "        for dim in range(0,number_topics): \n",
    "            distance_to_cluster.append(np.linalg.norm(document-dimensions[counter:counter+7]))\n",
    "            counter = counter + 7\n",
    "            \n",
    "        best_distance_index = distance_to_cluster.index(min(distance_to_cluster)) \n",
    "        \n",
    "        counter_docs[best_distance_index] += 1\n",
    "    \n",
    "        distance_to_cluster_2[best_distance_index] += pow(distance_to_cluster[best_distance_index], 2)\n",
    "        \n",
    "     \n",
    "    return counter_docs, distance_to_cluster_2"
   ]
  },
  {
   "cell_type": "code",
   "execution_count": 6,
   "metadata": {},
   "outputs": [],
   "source": [
    "def fobjInertia(k):\n",
    "    \n",
    "    num_topics = int((len(k))/7)\n",
    "    \n",
    "    # 1º Number of documents to each cluster\n",
    "    counter_documents, euclidean_dist_2 = auxiliarFunction(documents = matrix_algorithm, dimensions= k, number_topics = num_topics)\n",
    "    \n",
    "    bool_check = 0 in counter_documents    \n",
    "\n",
    "   # 2º Fitness fuction\n",
    "    if(bool_check):\n",
    "        total_value = 1000000000 # We give a high value to those clusters who do not have documents\n",
    "        \n",
    "    else:\n",
    "        total_value = sum(euclidean_dist_2) \n",
    "    return total_value"
   ]
  },
  {
   "cell_type": "code",
   "execution_count": 7,
   "metadata": {},
   "outputs": [],
   "source": [
    "def fobjQuadraticError(k):\n",
    "\n",
    "    num_topics = int((len(k))/7)\n",
    "    \n",
    "    # 1º Number of documents to each cluster\n",
    "    counter_documents, euclidean_dist_2 = auxiliarFunction(documents = matrix_algorithm, dimensions= k, number_topics = num_topics)\n",
    "    \n",
    "    bool_check = 0 in counter_documents    \n",
    "\n",
    "   # 2º Fitness fuction\n",
    "    if(bool_check):\n",
    "        total_value = 5 # We give a high value to those clusters who do not have documents\n",
    "        \n",
    "    else:\n",
    "        value1 = 0\n",
    "        for i in range(0,num_topics): \n",
    "            value2 = euclidean_dist_2[i] \n",
    "            value1 += ((1/counter_documents[i])*value2)\n",
    "\n",
    "        total_value = (value1 / num_topics) \n",
    "\n",
    "    return (total_value)"
   ]
  },
  {
   "cell_type": "markdown",
   "metadata": {},
   "source": [
    "# Manual Steepest Descent"
   ]
  },
  {
   "cell_type": "code",
   "execution_count": null,
   "metadata": {},
   "outputs": [],
   "source": [
    "def steepestDescentMethod(initial_sol, fobj, num_clust, num_iterations, step_derivate, stop_crit):\n",
    "    num_var = 7 * num_clust\n",
    "    if (num_var != len(initial_sol)):\n",
    "        print(\"Numero de K incorrecta\")\n",
    "        return None\n",
    "    \n",
    "    current_sol = initial_sol \n",
    "    current_val = fobj(current_sol) \n",
    "    \n",
    "    for it in range(0, num_iterations):\n",
    "        print(it)\n",
    "        # Gradient\n",
    "        grad = [0 for _ in range(0,num_var)] \n",
    "        \n",
    "        for i in range(0, num_var): \n",
    "            current_sol_plus = current_sol\n",
    "            current_sol_plus[i] = current_sol_plus[i] + step_derivate # (x + h)\n",
    "            grad[i] = (fobj(current_sol_plus) - current_val)/step_derivate # f' = (f(x+h) - f(x))/h => Para cada una de las dimensiones\n",
    "    \n",
    "        t0 = 0 # En la ecuacion parametrica => evaluamos inicialmente g(t=0) = f(x0)\n",
    "               \n",
    "        grad = np.array(grad)\n",
    "        for it2 in range (0, num_iterations): # Hacemos Newton para buscar punto óptimo\n",
    "            obj0 = fobj(current_sol - t0*grad) # g(t) que es a su vez f(x)=f(x0-t0*gradf)\n",
    "            objp = fobj(current_sol-(t0+step_derivate)*grad) # f(x+h)\n",
    "            objm = fobj(current_sol-(t0-step_derivate)*grad) #f(x-h)\n",
    "            \n",
    "            # t+1 = t - (f'(t)/f''(t)) => Newton\n",
    "            t1 = t0 - ((objp-obj0)/step_derivate) / ((objp-2*obj0+objm)/(pow(step_derivate,2)))\n",
    "            obj_fin = fobj(current_sol-t1*grad) \n",
    "            t0 = t1\n",
    "            \n",
    "            if (abs(obj_fin-obj0)<stop_crit): \n",
    "                break\n",
    "                \n",
    "        new_sol = current_sol-t1*grad #Nueva x conjunto de clusteres más optimos\n",
    "        new_value = obj_fin # fobj(x)\n",
    "        \n",
    "        if (abs(new_value - current_val)<stop_crit):\n",
    "            break\n",
    "        else:\n",
    "            current_sol = new_sol\n",
    "            current_val = new_value\n",
    "            print(current_val)\n",
    "            \n",
    "    solution = new_sol\n",
    "    value = new_value\n",
    "    \n",
    "    return solution, value"
   ]
  },
  {
   "cell_type": "code",
   "execution_count": null,
   "metadata": {},
   "outputs": [],
   "source": [
    "solution, value = steepestDescentMethod(ind_iterations[-1], fobj= fobjQuadraticError, num_clust= num_topics, num_iterations=1000, step_derivate=0.00001, stop_crit=0.000001)"
   ]
  },
  {
   "cell_type": "markdown",
   "metadata": {},
   "source": [
    "# Linear restrictions"
   ]
  },
  {
   "cell_type": "markdown",
   "metadata": {},
   "source": [
    "Linear restriction for each cluster => Simplex"
   ]
  },
  {
   "cell_type": "code",
   "execution_count": 9,
   "metadata": {},
   "outputs": [],
   "source": [
    "def sum_one1 (k):\n",
    "    sum  = 0\n",
    "    for i in range(7):\n",
    "        sum = sum + k[0*7+i]\n",
    "    sum = abs(sum-1)\n",
    "    return sum\n",
    "    "
   ]
  },
  {
   "cell_type": "code",
   "execution_count": 10,
   "metadata": {},
   "outputs": [],
   "source": [
    "def sum_one2 (k):\n",
    "    sum  = 0\n",
    "    for i in range(7):\n",
    "        sum = sum + k[1*7+i]\n",
    "    sum = abs(sum-1)\n",
    "    return sum"
   ]
  },
  {
   "cell_type": "code",
   "execution_count": 11,
   "metadata": {},
   "outputs": [],
   "source": [
    "def sum_one3 (k):\n",
    "    sum  = 0\n",
    "    for i in range(7):\n",
    "        sum = sum + k[2*7+i]\n",
    "    sum = abs(sum-1)\n",
    "    return sum"
   ]
  },
  {
   "cell_type": "code",
   "execution_count": 12,
   "metadata": {},
   "outputs": [],
   "source": [
    "def sum_one4 (k):\n",
    "    sum  = 0\n",
    "    for i in range(7):\n",
    "        sum = sum + k[3*7+i]\n",
    "    sum = abs(sum-1)\n",
    "    return sum"
   ]
  },
  {
   "cell_type": "code",
   "execution_count": 13,
   "metadata": {},
   "outputs": [],
   "source": [
    "def sum_one5 (k):\n",
    "    sum  = 0\n",
    "    for i in range(7):\n",
    "        sum = sum + k[4*7+i]\n",
    "    sum = abs(sum-1)\n",
    "    return sum"
   ]
  },
  {
   "cell_type": "code",
   "execution_count": 14,
   "metadata": {},
   "outputs": [],
   "source": [
    "def sum_one6 (k):\n",
    "    sum  = 0\n",
    "    for i in range(7):\n",
    "        sum = sum + k[5*7+i]\n",
    "    sum = abs(sum-1)\n",
    "    return sum"
   ]
  },
  {
   "cell_type": "code",
   "execution_count": 15,
   "metadata": {},
   "outputs": [],
   "source": [
    "def sum_one7 (k):\n",
    "    sum  = 0\n",
    "    for i in range(7):\n",
    "        sum = sum + k[6*7+i]\n",
    "    sum = abs(sum-1)\n",
    "    return sum"
   ]
  },
  {
   "cell_type": "markdown",
   "metadata": {},
   "source": [
    "Cluster-Centroids coordinates from best GA (fobj => 0.085)"
   ]
  },
  {
   "cell_type": "code",
   "execution_count": 16,
   "metadata": {},
   "outputs": [],
   "source": [
    "best_ind_qua = [0.08677035865210417, 0.07278468712428088, 0.07109726182607509, 0.4904948137060272, 0.09094998615804475, 0.0989125036064867, 0.08899038892698147, 0.5270465950617436, 0.07692425033026434, 0.07298998649076999, 0.08838148821350596, 0.0782574396572057, 0.045150883561909466, 0.11124935668460073, 0.06956840289940822, 0.06410684430351289, 0.0620043574482015, 0.06593183540050367, 0.08777158651469993, 0.06235934461899528, 0.5882576288146786, 0.07427020259065427, 0.4895285705813661, 0.09548090971259429, 0.06934601238291002, 0.0884145995843863, 0.08787019194165241, 0.09508951320643658, 0.06802896944417813, 0.10270313010011142, 0.10596313348643696, 0.08170172003230411, 0.07840352583234647, 0.4930168144094431, 0.07018270669517965, 0.09125486275914127, 0.08737765255740326, 0.07529169583310306, 0.0799640209212711, 0.512692538835611, 0.06211787976351038, 0.0913013493299602, 0.08847800619080015, 0.08981823273928771, 0.49349383502511723, 0.054521657611092095, 0.08764783879936638, 0.10199709557651074, 0.08404333405782603]"
   ]
  },
  {
   "cell_type": "code",
   "execution_count": 17,
   "metadata": {},
   "outputs": [],
   "source": [
    "cons1 = {'type': 'eq', 'fun': sum_one1}\n",
    "cons2 = {'type': 'eq', 'fun': sum_one2}\n",
    "cons3 = {'type': 'eq', 'fun': sum_one3}\n",
    "cons4 = {'type': 'eq', 'fun': sum_one4}\n",
    "cons5 = {'type': 'eq', 'fun': sum_one5}\n",
    "cons6 = {'type': 'eq', 'fun': sum_one6}\n",
    "cons7 = {'type': 'eq', 'fun': sum_one7}\n",
    "\n",
    "cons = [cons1,cons2,cons3,cons4,cons5,cons6,cons7]"
   ]
  },
  {
   "cell_type": "code",
   "execution_count": 18,
   "metadata": {},
   "outputs": [],
   "source": [
    "def callbackF(Xi):\n",
    "    global Nfeval\n",
    "    print ('{0:4d} {1: 3.6f}'.format(Nfeval, fobjQuadraticError(Xi)))\n",
    "    Nfeval += 1"
   ]
  },
  {
   "cell_type": "markdown",
   "metadata": {},
   "source": [
    "# Local Convergence Algorithm"
   ]
  },
  {
   "cell_type": "markdown",
   "metadata": {},
   "source": [
    "## SLSQP"
   ]
  },
  {
   "cell_type": "code",
   "execution_count": 19,
   "metadata": {},
   "outputs": [
    {
     "name": "stdout",
     "output_type": "stream",
     "text": [
      "Iter  f(X)     \n",
      "   1  0.084250\n",
      "   2  0.105616\n",
      "   3  0.082737\n",
      "   4  0.082711\n",
      "   5  0.082693\n",
      "   6  0.082683\n",
      "   7  0.082675\n",
      "   8  0.082662\n",
      "   9  0.082643\n",
      "  10  0.082630\n",
      "  11  0.082625\n",
      "  12  0.082625\n",
      "Optimization terminated successfully    (Exit mode 0)\n",
      "            Current function value: 0.08262480360461126\n",
      "            Iterations: 12\n",
      "            Function evaluations: 603\n",
      "            Gradient evaluations: 12\n",
      "[0.07090695 0.05472499 0.04853281 0.57385279 0.08962707 0.08657469\n",
      " 0.07578069 0.59317938 0.06076465 0.05862975 0.07064416 0.06814184\n",
      " 0.04867284 0.09996735 0.06900363 0.05984088 0.053046   0.0576334\n",
      " 0.07372197 0.05189116 0.63486295 0.07800525 0.50455501 0.08606383\n",
      " 0.0680363  0.09070192 0.08341853 0.08921917 0.060258   0.08105422\n",
      " 0.09413673 0.09088451 0.07929615 0.52263475 0.07173562 0.07688051\n",
      " 0.06956704 0.06030905 0.07134867 0.57871554 0.0567995  0.08637969\n",
      " 0.08485652 0.07823738 0.53178314 0.05498048 0.08116257 0.09027348\n",
      " 0.07870644]\n",
      "--- 4515.074224472046 s seconds ---\n"
     ]
    },
    {
     "data": {
      "text/plain": [
       "['results/convergence/fobjQuadraticError/iteration800/SLSQP.pkl']"
      ]
     },
     "execution_count": 19,
     "metadata": {},
     "output_type": "execute_result"
    }
   ],
   "source": [
    "start_time = time()\n",
    "\n",
    "Nfeval = 1\n",
    "\n",
    "print  ('{0:4s}  {1:9s}'.format('Iter', 'f(X)'))\n",
    "\n",
    "res = minimize(fun = fobjQuadraticError, x0= best_ind_qua, args=(), method='SLSQP', jac=None, \n",
    "               bounds=bounds, constraints=cons, tol=None, callback=callbackF,\n",
    "               options={'maxiter': 100, 'ftol': 0.0000001, 'iprint': 1, 'disp': True, \n",
    "               'eps': 0.0000001, 'finite_diff_rel_step': None})\n",
    "print(res.x)\n",
    "\n",
    "print(\"--- {} s seconds ---\".format((time() - start_time)))\n",
    "\n",
    "joblib.dump(res.x, \"results/convergence/fobjQuadraticError/iteration{}/SLSQP.pkl\".format(g))"
   ]
  },
  {
   "cell_type": "markdown",
   "metadata": {},
   "source": [
    "# Best result (Hybridized GA)"
   ]
  },
  {
   "cell_type": "code",
   "execution_count": 26,
   "metadata": {},
   "outputs": [
    {
     "name": "stdout",
     "output_type": "stream",
     "text": [
      "0.08262480360994985\n"
     ]
    }
   ],
   "source": [
    "print(fobjQuadraticError([0.07090695, 0.05472499, 0.04853281, 0.57385279, 0.08962707,\n",
    "       0.08657469, 0.07578069, 0.59317938, 0.06076465, 0.05862975,\n",
    "       0.07064416, 0.06814184, 0.04867284, 0.09996735, 0.06900363,\n",
    "       0.05984088, 0.053046  , 0.0576334 , 0.07372197, 0.05189116,\n",
    "       0.63486295, 0.07800525, 0.50455501, 0.08606383, 0.0680363 ,\n",
    "       0.09070192, 0.08341853, 0.08921917, 0.060258  , 0.08105422,\n",
    "       0.09413673, 0.09088451, 0.07929615, 0.52263475, 0.07173562,\n",
    "       0.07688051, 0.06956704, 0.06030905, 0.07134867, 0.57871554,\n",
    "       0.0567995 , 0.08637969, 0.08485652, 0.07823738, 0.53178314,\n",
    "       0.05498048, 0.08116257, 0.09027348, 0.07870644]))"
   ]
  },
  {
   "cell_type": "markdown",
   "metadata": {},
   "source": [
    "# Plot results"
   ]
  },
  {
   "cell_type": "code",
   "execution_count": 68,
   "metadata": {},
   "outputs": [
    {
     "data": {
      "image/png": "[encoded data removed]",
      "text/plain": [
       "<Figure size 432x288 with 1 Axes>"
      ]
     },
     "metadata": {
      "needs_background": "light"
     },
     "output_type": "display_data"
    }
   ],
   "source": [
    "convergence_values = [0.084250 ,0.082737, 0.082711, 0.082693, 0.082683, 0.082675, 0.082662, 0.082643, 0.082630, 0.082625, 0.082625]\n",
    "plt.plot(convergence_values)\n",
    "plt.xticks(np.arange(0,11, step=1), fontsize = 12)\n",
    "plt.yticks(fontsize = 11)\n",
    "plt.xlabel('Number of iterations', fontsize = 12)\n",
    "plt.ylabel('Objetive Function Value', fontsize = 12)\n",
    "plt.title('SLSQP algorithm performance', fontsize = 14 )\n",
    "plt.grid()\n",
    "plt.show()"
   ]
  }
 ],
 "metadata": {
  "kernelspec": {
   "display_name": "Python 3",
   "language": "python",
   "name": "python3"
  },
  "language_info": {
   "codemirror_mode": {
    "name": "ipython",
    "version": 3
   },
   "file_extension": ".py",
   "mimetype": "text/x-python",
   "name": "python",
   "nbconvert_exporter": "python",
   "pygments_lexer": "ipython3",
   "version": "3.8.8"
  },
  "toc": {
   "base_numbering": 1,
   "nav_menu": {},
   "number_sections": true,
   "sideBar": true,
   "skip_h1_title": false,
   "title_cell": "Table of Contents",
   "title_sidebar": "Contents",
   "toc_cell": false,
   "toc_position": {},
   "toc_section_display": true,
   "toc_window_display": false
  },
  "varInspector": {
   "cols": {
    "lenName": 16,
    "lenType": 16,
    "lenVar": 40
   },
   "kernels_config": {
    "python": {
     "delete_cmd_postfix": "",
     "delete_cmd_prefix": "del ",
     "library": "var_list.py",
     "varRefreshCmd": "print(var_dic_list())"
    },
    "r": {
     "delete_cmd_postfix": ") ",
     "delete_cmd_prefix": "rm(",
     "library": "var_list.r",
     "varRefreshCmd": "cat(var_dic_list()) "
    }
   },
   "types_to_exclude": [
    "module",
    "function",
    "builtin_function_or_method",
    "instance",
    "_Feature"
   ],
   "window_display": false
  }
 },
 "nbformat": 4,
 "nbformat_minor": 4
}
