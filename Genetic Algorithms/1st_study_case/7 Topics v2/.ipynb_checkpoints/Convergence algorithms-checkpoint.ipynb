{
 "cells": [
  {
   "cell_type": "code",
   "execution_count": 1,
   "metadata": {},
   "outputs": [],
   "source": [
    "from scipy.optimize import Bounds\n",
    "import numpy as np\n",
    "from scipy.optimize import minimize\n",
    "import joblib\n",
    "import os\n",
    "\n",
    "from deap import base\n",
    "from deap import creator\n",
    "from deap import tools\n",
    "\n",
    "import random\n",
    "\n",
    "from time import time\n",
    "\n"
   ]
  },
  {
   "cell_type": "code",
   "execution_count": 2,
   "metadata": {},
   "outputs": [],
   "source": [
    "NUM_CLUSTERS = 7"
   ]
  },
  {
   "cell_type": "code",
   "execution_count": 3,
   "metadata": {},
   "outputs": [],
   "source": [
    "CLUSTER_DIM = 7 * NUM_CLUSTERS\n",
    "\n",
    "creator.create(\"FitnessMin\", base.Fitness, weights=(-1.0,))\n",
    "creator.create(\"Individual\", list, fitness=creator.FitnessMin)\n",
    "\n",
    "toolbox = base.Toolbox()\n",
    "\n",
    "toolbox.register(\"attr_flt\", random.uniform, 0, 1)\n",
    "toolbox.register(\"individual\", tools.initRepeat, creator.Individual, toolbox.attr_flt,n=CLUSTER_DIM)\n",
    "\n",
    "toolbox.register(\"population\", tools.initRepeat, list, toolbox.individual)\n",
    "\n",
    "#reduced_matrix_np = joblib.load('reduced_matrix_np.pkl')\n",
    "#matrix_algorithm = reduced_matrix_np\n",
    "\n",
    "matrix_np = joblib.load('matrix_np.pkl')\n",
    "matrix_algorithm = matrix_np\n",
    "\n",
    "ind_fqua = joblib.load(\"./results/fobjQuadraticError/best_gen_individuals{}.pkl\".format(150))\n",
    "best_ind_qua = ind_fqua[-1]\n",
    "\n",
    "#ind_finer = joblib.load(\"./results/fobjInertia/best_gen_individuals{}.pkl\".format(150))\n",
    "#best_ind_iner = ind_finer[-1]"
   ]
  },
  {
   "cell_type": "markdown",
   "metadata": {},
   "source": [
    "# Create Folders"
   ]
  },
  {
   "cell_type": "code",
   "execution_count": 4,
   "metadata": {},
   "outputs": [
    {
     "name": "stdout",
     "output_type": "stream",
     "text": [
      "Successfully created the directory ./results/convergence/fobjQuadraticError \n"
     ]
    }
   ],
   "source": [
    "path = \"./results/convergence/fobjQuadraticError\"\n",
    "try:\n",
    "    if not os.path.isdir(path):\n",
    "        os.makedirs(path)\n",
    "except OSError:\n",
    "    print (\"Creation of the directory %s failed\" % path)\n",
    "else:\n",
    "    print (\"Successfully created the directory %s \" % path)"
   ]
  },
  {
   "cell_type": "code",
   "execution_count": null,
   "metadata": {},
   "outputs": [],
   "source": [
    "path = \"./results/convergence/fobjInertia\"\n",
    "try:\n",
    "    if not os.path.isdir(path):\n",
    "        os.makedirs(path)\n",
    "except OSError:\n",
    "    print (\"Creation of the directory %s failed\" % path)\n",
    "else:\n",
    "    print (\"Successfully created the directory %s \" % path)"
   ]
  },
  {
   "cell_type": "markdown",
   "metadata": {},
   "source": [
    "# Define Functions"
   ]
  },
  {
   "cell_type": "code",
   "execution_count": 5,
   "metadata": {},
   "outputs": [],
   "source": [
    "def auxiliarFunction(documents, dimensions, number_topics):\n",
    "\n",
    "    counter_docs = [0 for x in range(0,number_topics)]\n",
    "    \n",
    "    distance_to_cluster_2 = [0 for x in range(0,number_topics)] # distances to cluster\n",
    "    \n",
    "    for document in documents: \n",
    "        distance_to_cluster = []   \n",
    "        counter = 0\n",
    "        for dim in range(0,number_topics): \n",
    "            distance_to_cluster.append(np.linalg.norm(document-dimensions[counter:counter+7]))\n",
    "            counter = counter + 7\n",
    "            \n",
    "        best_distance_index = distance_to_cluster.index(min(distance_to_cluster)) \n",
    "        \n",
    "        counter_docs[best_distance_index] += 1\n",
    "    \n",
    "        distance_to_cluster_2[best_distance_index] += pow(distance_to_cluster[best_distance_index], 2)\n",
    "        \n",
    "     \n",
    "    return counter_docs, distance_to_cluster_2"
   ]
  },
  {
   "cell_type": "code",
   "execution_count": 6,
   "metadata": {},
   "outputs": [],
   "source": [
    "def fobjInertia(k):\n",
    "    \n",
    "    num_topics = int((len(k))/7)\n",
    "    \n",
    "    # 1º Number of documents to each cluster\n",
    "    counter_documents, euclidean_dist_2 = auxiliarFunction(documents = matrix_algorithm, dimensions= k, number_topics = num_topics)\n",
    "    \n",
    "    bool_check = 0 in counter_documents    \n",
    "\n",
    "   # 2º Fitness fuction\n",
    "    if(bool_check):\n",
    "        total_value = 1000000000 # We give a high value to those clusters who do not have documents\n",
    "        \n",
    "    else:\n",
    "        total_value = sum(euclidean_dist_2) # Euclidean distance summatory (K clusters)\n",
    "    return total_value"
   ]
  },
  {
   "cell_type": "code",
   "execution_count": 7,
   "metadata": {},
   "outputs": [],
   "source": [
    "def fobjQuadraticError(k):\n",
    "\n",
    "    num_topics = int((len(k))/7)\n",
    "    \n",
    "    # 1º Number of documents to each cluster\n",
    "    counter_documents, euclidean_dist_2 = auxiliarFunction(documents = matrix_algorithm, dimensions= k, number_topics = num_topics)\n",
    "    \n",
    "    bool_check = 0 in counter_documents    \n",
    "\n",
    "   # 2º Fitness fuction\n",
    "    if(bool_check):\n",
    "        total_value = 5 # We give a high value to those clusters who do not have documents\n",
    "        \n",
    "    else:\n",
    "        value1 = 0\n",
    "        for i in range(0,num_topics): #para cada uno de los clusters\n",
    "            value2 = euclidean_dist_2[i] \n",
    "            value1 += ((1/counter_documents[i])*value2)\n",
    "\n",
    "        total_value = (value1 / num_topics) \n",
    "\n",
    "    return (total_value)"
   ]
  },
  {
   "cell_type": "raw",
   "metadata": {},
   "source": [
    "def steepestDescentMethod(initial_sol, fobj, num_clust, num_iterations, step_derivate, stop_crit):\n",
    "    # Dimensiones - Variables en la funcion\n",
    "    num_var = 7 * num_clust\n",
    "    # Check dimensions - Si es diferente salimos de la funcion\n",
    "    if (num_var != len(initial_sol)):\n",
    "        print(\"Numero de K incorrecta\")\n",
    "        return None\n",
    "    \n",
    "    current_sol = initial_sol # Mis clusteres iniciales (49dim)\n",
    "    current_val = fobj(current_sol) # f(x)\n",
    "    \n",
    "    # Steepest descent method\n",
    "    for it in range(0, num_iterations):\n",
    "        print(it)\n",
    "        #print(it)\n",
    "        # Gradient\n",
    "        grad = [0 for _ in range(0,num_var)] #Me guardo el gradiente (vector de num_var dimensiones)\n",
    "        \n",
    "        for i in range(0, num_var): # Para cada una de las variables calculamos la derivada parcial\n",
    "            #print(\"variable number: {}\".format(i))\n",
    "            # Nuestra funcion objetivo es dificil de derivar => Derivada numerica y no analitica\n",
    "            current_sol_plus = current_sol\n",
    "            #print(current_sol_plus)\n",
    "            current_sol_plus[i] = current_sol_plus[i] + step_derivate # (x + h)\n",
    "            #print(\"current_sol_plus[i]: {}\".format(current_sol_plus[i]))\n",
    "            grad[i] = (fobj(current_sol_plus) - current_val)/step_derivate # f' = (f(x+h) - f(x))/h => Para cada una de las dimensiones\n",
    "    \n",
    "        t0 = 0 # En la ecuacion parametrica => evaluamos inicialmente g(t=0) = f(x0)\n",
    "               # La t irá variando \n",
    "        grad = np.array(grad)\n",
    "        for it2 in range (0, num_iterations): # Hacemos Newton para buscar punto óptimo ######################### ARREGLAR ESTO LUEGO\n",
    "            obj0 = fobj(current_sol - t0*grad) # g(t) que es a su vez f(x)=f(x0-t0*gradf)\n",
    "            objp = fobj(current_sol-(t0+step_derivate)*grad) # f(x+h)\n",
    "            objm = fobj(current_sol-(t0-step_derivate)*grad) #f(x-h)\n",
    "            \n",
    "            # t+1 = t - (f'(t)/f''(t)) => Newton\n",
    "            t1 = t0 - ((objp-obj0)/step_derivate) / ((objp-2*obj0+objm)/(pow(step_derivate,2)))\n",
    "            obj_fin = fobj(current_sol-t1*grad) #Calculamos la nueva g(t1) para compararla con la anterior\n",
    "            t0 = t1\n",
    "            \n",
    "            if (abs(obj_fin-obj0)<stop_crit): #Si no ha habido mucho cambio salgo del bucle he terminado\n",
    "                break\n",
    "                \n",
    "        new_sol = current_sol-t1*grad #Nueva x conjunto de clusteres más optimos\n",
    "        new_value = obj_fin # fobj(x)\n",
    "        \n",
    "        if (abs(new_value - current_val)<stop_crit):\n",
    "            break\n",
    "        else:\n",
    "            current_sol = new_sol\n",
    "            current_val = new_value\n",
    "            print(current_val)\n",
    "            \n",
    "    solution = new_sol\n",
    "    value = new_value\n",
    "    \n",
    "    return solution, value"
   ]
  },
  {
   "cell_type": "raw",
   "metadata": {},
   "source": [
    "solution, value = steepestDescentMethod(ind_iterations[-1], fobj= fobjQuadraticError, num_clust= num_topics, num_iterations=1000, step_derivate=0.00001, stop_crit=0.000001)"
   ]
  },
  {
   "cell_type": "code",
   "execution_count": 8,
   "metadata": {},
   "outputs": [],
   "source": [
    "# Para los que necesiten J\n",
    "def gradfunc(x):\n",
    "    # Gradient\n",
    "    num_var = 49\n",
    "    h=0.001\n",
    "    grad = [0 for _ in range(0,num_var)]\n",
    "    current_sol = x\n",
    "    current_val = fobj2(current_sol)\n",
    "    \n",
    "    for i in range(0, num_var): \n",
    "        current_sol_plus = current_sol\n",
    "        current_sol_plus[i] = current_sol_plus[i] + h\n",
    "        grad[i] = (fobj2(current_sol_plus) - current_val)/h \n",
    "\n",
    "    return grad\n",
    "\n",
    "bounds = Bounds([0]*7*NUM_CLUSTERS,\n",
    "                [1]*7*NUM_CLUSTERS)"
   ]
  },
  {
   "cell_type": "markdown",
   "metadata": {},
   "source": [
    "# SLSQP"
   ]
  },
  {
   "cell_type": "code",
   "execution_count": 9,
   "metadata": {},
   "outputs": [
    {
     "name": "stdout",
     "output_type": "stream",
     "text": [
      "Optimization terminated successfully    (Exit mode 0)\n",
      "            Current function value: 0.08924405546130854\n",
      "            Iterations: 4\n",
      "            Function evaluations: 229\n",
      "            Gradient evaluations: 4\n",
      "[0.08684272 0.06227225 0.03515571 0.05971949 0.05488723 0.05150941\n",
      " 0.64306821 0.0850732  0.11190715 0.55227445 0.06555042 0.05809734\n",
      " 0.08266257 0.07847096 0.06269864 0.05379456 0.04166713 0.60185493\n",
      " 0.0572007  0.08347162 0.06775544 0.02873104 0.02823249 0.01914961\n",
      " 0.87747103 0.03599404 0.02555935 0.01587945 0.0837553  0.09439681\n",
      " 0.07904164 0.09755949 0.32887999 0.2327117  0.10430703 0.62061141\n",
      " 0.05991763 0.09473553 0.07046836 0.04633504 0.05341064 0.089253\n",
      " 0.06423063 0.59635239 0.09266999 0.05677078 0.05627019 0.06551471\n",
      " 0.07638331]\n",
      "--- 1599.2768597602844 s seconds ---\n"
     ]
    },
    {
     "data": {
      "text/plain": [
       "['results/convergence/fobjQuadraticError/SLSQP.pkl']"
      ]
     },
     "execution_count": 9,
     "metadata": {},
     "output_type": "execute_result"
    }
   ],
   "source": [
    "\"\"\"\n",
    "eps: Step size used for numerical approximation of the Jacobian.\n",
    "\n",
    "ftol : Precision goal for the value of f in the stopping criterion.\n",
    "\n",
    "\"\"\"\n",
    "start_time = time()\n",
    "\n",
    "res = minimize(fun = fobjQuadraticError, x0= best_ind_qua, args=(), method='SLSQP', jac=None, \n",
    "               bounds=bounds, constraints=(), tol=None, callback=None,\n",
    "               options={'maxiter': 100, 'ftol': 1e-06, 'iprint': 1, 'disp': True, \n",
    "               'eps': 1.4901161193847656e-08, 'finite_diff_rel_step': None})\n",
    "print(res.x)\n",
    "\n",
    "print(\"--- {} s seconds ---\".format((time() - start_time)))\n",
    "\n",
    "joblib.dump(res.x, \"results/convergence/fobjQuadraticError/SLSQP.pkl\")"
   ]
  },
  {
   "cell_type": "code",
   "execution_count": 10,
   "metadata": {},
   "outputs": [
    {
     "name": "stdout",
     "output_type": "stream",
     "text": [
      "0.0898366747623566\n"
     ]
    }
   ],
   "source": [
    "print(fobjQuadraticError(best_ind_qua))"
   ]
  },
  {
   "cell_type": "code",
   "execution_count": null,
   "metadata": {},
   "outputs": [],
   "source": [
    "start_time = time()\n",
    "\n",
    "res = minimize(fun = fobjInertia, x0= best_ind_iner, args=(), method='SLSQP', jac=None, \n",
    "               bounds=bounds, constraints=(), tol=None, callback=None,\n",
    "               options={'maxiter': 100, 'ftol': 1e-06, 'iprint': 1, 'disp': True, \n",
    "               'eps': 1.4901161193847656e-08, 'finite_diff_rel_step': None})\n",
    "print(res.x)\n",
    "print(\"--- {} s seconds ---\".format((time() - start_time)))\n",
    "\n",
    "joblib.dump(res.x, \"results/convergence/fobjInertia/SLSQP.pkl\")"
   ]
  },
  {
   "cell_type": "markdown",
   "metadata": {},
   "source": [
    "# BFGS"
   ]
  },
  {
   "cell_type": "code",
   "execution_count": null,
   "metadata": {},
   "outputs": [],
   "source": [
    "\n",
    "\"\"\"\n",
    "eps: If jac is None the absolute step size used for numerical approximation of the jacobian via forward differences.\n",
    "gtol: Gradient norm must be less than gtol before successful termination.\n",
    "\n",
    "\"\"\"\n",
    "start_time = time()\n",
    "\n",
    "res = minimize(fun = fobjQuadraticError, x0= best_ind_qua, args=(),\n",
    "               method='BFGS', jac=None, tol=None, callback=None, \n",
    "               options={'gtol': 1e-06, 'eps': 1.4901161193847656e-08,\n",
    "               'maxiter': 100, 'disp': True, 'return_all': False, \n",
    "               'finite_diff_rel_step': None})\n",
    "print(res.x)\n",
    "print(\"--- {} s seconds ---\".format((time() - start_time)))\n",
    "\n",
    "joblib.dump(res.x, \"results/convergence/fobjQuadraticError/BFGS.pkl\")"
   ]
  },
  {
   "cell_type": "code",
   "execution_count": null,
   "metadata": {},
   "outputs": [],
   "source": [
    "start_time = time()\n",
    "\n",
    "res = minimize(fun = fobjInertia, x0= best_ind_iner, args=(),\n",
    "               method='BFGS', jac=None, tol=None, callback=None, \n",
    "               options={'gtol': 1e-06, 'eps': 1.4901161193847656e-08,\n",
    "               'maxiter': 100, 'disp': True, 'return_all': False, \n",
    "               'finite_diff_rel_step': None})\n",
    "print(res.x)\n",
    "print(\"--- {} s seconds ---\".format((time() - start_time)))\n",
    "\n",
    "joblib.dump(res.x, \"results/convergence/fobjInertia/BFGS.pkl\")"
   ]
  },
  {
   "cell_type": "markdown",
   "metadata": {},
   "source": [
    "# Powell"
   ]
  },
  {
   "cell_type": "code",
   "execution_count": null,
   "metadata": {},
   "outputs": [],
   "source": [
    "start_time = time()\n",
    "\n",
    "res =minimize(fun = fobjQuadraticError, x0= best_ind_qua, args=(), method='Powell', \n",
    "         bounds=None, tol=None, callback=None, options={'xtol': 0.0001,\n",
    "        'ftol': 1e-06, 'maxiter': 100, \n",
    "        'maxfev': None, 'disp': True, 'direc': None, 'return_all': False})\n",
    "print(res.x)\n",
    "print(\"--- {} s seconds ---\".format((time() - start_time)))\n",
    "\n",
    "joblib.dump(res.x, \"results/convergence/fobjQuadraticError/Powell.pkl\")"
   ]
  },
  {
   "cell_type": "code",
   "execution_count": null,
   "metadata": {},
   "outputs": [],
   "source": [
    "start_time = time()\n",
    "\n",
    "res =minimize(fun = fobjInertia, x0= best_ind_iner, args=(), method='Powell', \n",
    "         bounds=None, tol=None, callback=None, options={'xtol': 0.0001,\n",
    "        'ftol': 1e-06, 'maxiter': 100, \n",
    "        'maxfev': None, 'disp': True, 'direc': None, 'return_all': False})\n",
    "print(res.x)\n",
    "print(\"--- {} s seconds ---\".format((time() - start_time)))\n",
    "\n",
    "joblib.dump(res.x, \"results/convergence/fobjInertia/Powell.pkl\")"
   ]
  },
  {
   "cell_type": "markdown",
   "metadata": {},
   "source": [
    "# CG"
   ]
  },
  {
   "cell_type": "code",
   "execution_count": null,
   "metadata": {},
   "outputs": [],
   "source": [
    "start_time = time()\n",
    "\n",
    "res =minimize(fun = fobjQuadraticError, x0= best_ind_qua, args=(),\n",
    "         method='CG', jac=None, tol=None, callback=None, \n",
    "         options={'gtol': 1e-06, 'eps': 1.4901161193847656e-08,\n",
    "        'maxiter': 100, 'disp': True, 'return_all': False, 'finite_diff_rel_step': None})\n",
    "\n",
    "print(res.x)\n",
    "print(\"--- {} s seconds ---\".format((time() - start_time)))\n",
    "\n",
    "joblib.dump(res.x, \"results/convergence/fobjQuadraticError/CG.pkl\")"
   ]
  },
  {
   "cell_type": "code",
   "execution_count": null,
   "metadata": {},
   "outputs": [],
   "source": [
    "start_time = time()\n",
    "\n",
    "res =minimize(fun = fobjInertia, x0= best_ind_iner, args=(),\n",
    "         method='CG', jac=None, tol=None, callback=None, \n",
    "         options={'gtol': 1e-06, 'eps': 1.4901161193847656e-08,\n",
    "        'maxiter': 100, 'disp': True, 'return_all': False, 'finite_diff_rel_step': None})\n",
    "\n",
    "print(res.x)\n",
    "print(\"--- {} s seconds ---\".format((time() - start_time)))\n",
    "\n",
    "joblib.dump(res.x, \"results/convergence/fobjInertia/CG.pkl\")"
   ]
  },
  {
   "cell_type": "markdown",
   "metadata": {},
   "source": [
    "# L-BFGS-B"
   ]
  },
  {
   "cell_type": "code",
   "execution_count": null,
   "metadata": {},
   "outputs": [],
   "source": [
    "start_time = time()\n",
    "\n",
    "res = minimize(fun = fobjQuadraticError, x0= best_ind_qua, args=(), \n",
    "         method='L-BFGS-B', jac=None,\n",
    "         bounds=bounds, tol=None, callback=None, \n",
    "         options={'disp': None, 'maxcor': 10, \n",
    "        'ftol': 2.220446049250313e-09, 'gtol': 1e-05, 'eps': 1e-08, 'maxfun': 15000, 'maxiter': 15000, \n",
    "        'iprint': - 1, 'maxls': 20,\n",
    "        'finite_diff_rel_step': None})\n",
    "print(res)\n",
    "print(\"--- {} s seconds ---\".format((time() - start_time)))\n",
    "\n",
    "joblib.dump(res.x, \"results/convergence/fobjQuadraticError/L-BFGS-B.pkl\")"
   ]
  },
  {
   "cell_type": "code",
   "execution_count": null,
   "metadata": {},
   "outputs": [],
   "source": [
    "start_time = time()\n",
    "\n",
    "res = minimize(fun = fobjInertia, x0= best_ind_iner, args=(), \n",
    "         method='L-BFGS-B', jac=None,\n",
    "         bounds=bounds, tol=None, callback=None, \n",
    "         options={'disp': None, 'maxcor': 10, \n",
    "        'ftol': 2.220446049250313e-09, 'gtol': 1e-05, 'eps': 1e-08, 'maxfun': 15000, 'maxiter': 15000, \n",
    "        'iprint': - 1, 'maxls': 20,\n",
    "        'finite_diff_rel_step': None})\n",
    "print(res)\n",
    "print(\"--- {} s seconds ---\".format((time() - start_time)))\n",
    "\n",
    "joblib.dump(res.x, \"results/convergence/fobjInertia/L-BFGS-B.pkl\")"
   ]
  },
  {
   "cell_type": "markdown",
   "metadata": {},
   "source": [
    "# TNC"
   ]
  },
  {
   "cell_type": "code",
   "execution_count": null,
   "metadata": {},
   "outputs": [],
   "source": [
    "start_time = time()\n",
    "\n",
    "res = minimize(fun = fobjQuadraticError, x0= best_ind_qua, args=(), method='TNC',\n",
    "        jac=None, bounds=bounds, tol=None, callback=None, \n",
    "         options={'eps': 1.4901161193847656e-08, 'scale': None, 'offset': None, \n",
    "        'mesg_num': None, 'maxCGit': - 1, 'maxiter': None, 'eta': - 1, \n",
    "        'stepmx': 0, 'accuracy': 0, 'minfev': 0, 'ftol': - 1, 'xtol': - 1, \n",
    "        'gtol': - 1, 'rescale': - 1, 'disp': True,\n",
    "        'finite_diff_rel_step': None, 'maxfun': 100})\n",
    "print(res)\n",
    "print(\"--- {} s seconds ---\".format((time() - start_time)))\n",
    "\n",
    "joblib.dump(res.x, \"results/convergence/fobjQuadraticError/TNC.pkl\")"
   ]
  },
  {
   "cell_type": "code",
   "execution_count": null,
   "metadata": {},
   "outputs": [],
   "source": [
    "start_time = time()\n",
    "\n",
    "res = minimize(fun = fobjInertia, x0= best_ind_iner, args=(), method='TNC',\n",
    "        jac=None, bounds=bounds, tol=None, callback=None, \n",
    "         options={'eps': 1.4901161193847656e-08, 'scale': None, 'offset': None, \n",
    "        'mesg_num': None, 'maxCGit': - 1, 'maxiter': None, 'eta': - 1, \n",
    "        'stepmx': 0, 'accuracy': 0, 'minfev': 0, 'ftol': - 1, 'xtol': - 1, \n",
    "        'gtol': - 1, 'rescale': - 1, 'disp': True,\n",
    "        'finite_diff_rel_step': None, 'maxfun': 100})\n",
    "print(res)\n",
    "print(\"--- {} s seconds ---\".format((time() - start_time)))\n",
    "\n",
    "joblib.dump(res.x, \"results/convergence/fobjInertia/TNC.pkl\")"
   ]
  },
  {
   "cell_type": "markdown",
   "metadata": {},
   "source": [
    "# COBYLA"
   ]
  },
  {
   "cell_type": "code",
   "execution_count": null,
   "metadata": {},
   "outputs": [],
   "source": [
    "start_time = time()\n",
    "\n",
    "res = minimize(fun = fobjQuadraticError, x0= best_ind_qua, args=(), method='COBYLA', constraints=(), tol=2.220446049250313e-09, callback=None, \n",
    "         options={'rhobeg': 1.0, 'maxiter': 1000, \n",
    "                  'disp': False, 'catol': 2.220446049250313e-09})\n",
    "print(res)\n",
    "print(\"--- {} s seconds ---\".format((time() - start_time)))\n",
    "\n",
    "joblib.dump(res.x, \"results/convergence/fobjQuadraticError/COBYLA.pkl\")"
   ]
  },
  {
   "cell_type": "code",
   "execution_count": null,
   "metadata": {},
   "outputs": [],
   "source": [
    "start_time = time()\n",
    "\n",
    "res = minimize(fun = fobjInertia, x0= best_ind_iner, args=(), method='COBYLA', constraints=(), tol=2.220446049250313e-09, callback=None, \n",
    "         options={'rhobeg': 1.0, 'maxiter': 1000, \n",
    "                  'disp': False, 'catol': 2.220446049250313e-09})\n",
    "print(res)\n",
    "print(\"--- {} s seconds ---\".format((time() - start_time)))\n",
    "\n",
    "joblib.dump(res.x, \"results/convergence/fobjInertia/COBYLA.pkl\")"
   ]
  },
  {
   "cell_type": "markdown",
   "metadata": {},
   "source": [
    "# trust-constr"
   ]
  },
  {
   "cell_type": "code",
   "execution_count": null,
   "metadata": {},
   "outputs": [],
   "source": [
    "start_time = time()\n",
    "\n",
    "res = minimize(fun = fobjQuadraticError, x0= best_ind_qua, args=(), method='trust-constr', hess=None, hessp=None, bounds=bounds, constraints=(), tol=None, callback=None, \n",
    "        options={'xtol': 1e-08, 'gtol': 1e-08, 'barrier_tol': 1e-08, \n",
    "        'sparse_jacobian': None, 'maxiter': 1000, 'verbose': 0, 'finite_diff_rel_step': None, 'initial_constr_penalty': 1.0, \n",
    "        'initial_tr_radius': 1.0, 'initial_barrier_parameter': 0.1, \n",
    "        'initial_barrier_tolerance': 0.1, 'factorization_method': None, 'disp': True})\n",
    "print(res)\n",
    "print(\"--- {} s seconds ---\".format((time() - start_time)))\n",
    "\n",
    "joblib.dump(res.x, \"results/convergence/fobjQuadraticError/trust-constr.pkl\")"
   ]
  },
  {
   "cell_type": "code",
   "execution_count": null,
   "metadata": {},
   "outputs": [],
   "source": [
    "start_time = time()\n",
    "\n",
    "res = minimize(fun = fobjInertia, x0= best_ind_iner, args=(), method='trust-constr', hess=None, hessp=None, bounds=bounds, constraints=(), tol=None, callback=None, \n",
    "        options={'xtol': 1e-08, 'gtol': 1e-08, 'barrier_tol': 1e-08, \n",
    "        'sparse_jacobian': None, 'maxiter': 1000, 'verbose': 0, 'finite_diff_rel_step': None, 'initial_constr_penalty': 1.0, \n",
    "        'initial_tr_radius': 1.0, 'initial_barrier_parameter': 0.1, \n",
    "        'initial_barrier_tolerance': 0.1, 'factorization_method': None, 'disp': True})\n",
    "print(res)\n",
    "print(\"--- {} s seconds ---\".format((time() - start_time)))\n",
    "\n",
    "joblib.dump(res.x, \"results/convergence/fobjInertia/trust-constr.pkl\")"
   ]
  }
 ],
 "metadata": {
  "kernelspec": {
   "display_name": "Python 3",
   "language": "python",
   "name": "python3"
  },
  "language_info": {
   "codemirror_mode": {
    "name": "ipython",
    "version": 3
   },
   "file_extension": ".py",
   "mimetype": "text/x-python",
   "name": "python",
   "nbconvert_exporter": "python",
   "pygments_lexer": "ipython3",
   "version": "3.7.6"
  },
  "varInspector": {
   "cols": {
    "lenName": 16,
    "lenType": 16,
    "lenVar": 40
   },
   "kernels_config": {
    "python": {
     "delete_cmd_postfix": "",
     "delete_cmd_prefix": "del ",
     "library": "var_list.py",
     "varRefreshCmd": "print(var_dic_list())"
    },
    "r": {
     "delete_cmd_postfix": ") ",
     "delete_cmd_prefix": "rm(",
     "library": "var_list.r",
     "varRefreshCmd": "cat(var_dic_list()) "
    }
   },
   "types_to_exclude": [
    "module",
    "function",
    "builtin_function_or_method",
    "instance",
    "_Feature"
   ],
   "window_display": false
  }
 },
 "nbformat": 4,
 "nbformat_minor": 4
}
