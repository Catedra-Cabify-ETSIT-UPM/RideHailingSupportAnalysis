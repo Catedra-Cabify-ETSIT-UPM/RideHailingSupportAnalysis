{
 "cells": [
  {
   "cell_type": "code",
   "execution_count": null,
   "metadata": {},
   "outputs": [],
   "source": [
    "import numpy as np\n",
    "import matplotlib.pyplot as plt\n",
    "\n",
    "import joblib\n",
    "\n",
    "import random\n",
    "from deap import base\n",
    "from deap import creator\n",
    "from deap import tools\n",
    "\n",
    "from deap import algorithms\n",
    "from time import time\n",
    "import multiprocessing\n",
    "\n",
    "import array\n",
    "import random\n",
    "import json\n",
    "\n",
    "import os\n",
    "\n",
    "import pandas as pd"
   ]
  },
  {
   "cell_type": "code",
   "execution_count": null,
   "metadata": {
    "scrolled": false
   },
   "outputs": [],
   "source": [
    "matrix_np = joblib.load('matrix_np.pkl')"
   ]
  },
  {
   "cell_type": "code",
   "execution_count": null,
   "metadata": {},
   "outputs": [],
   "source": [
    "#reduced_matrix_np = joblib.load('reduced_matrix_np.pkl')"
   ]
  },
  {
   "cell_type": "markdown",
   "metadata": {},
   "source": [
    "# Functions"
   ]
  },
  {
   "cell_type": "markdown",
   "metadata": {},
   "source": [
    "## Modify parameters"
   ]
  },
  {
   "cell_type": "code",
   "execution_count": null,
   "metadata": {},
   "outputs": [],
   "source": [
    "matrix_algorithm = matrix_np\n",
    "NUM_CLUSTERS = 7"
   ]
  },
  {
   "cell_type": "markdown",
   "metadata": {},
   "source": [
    "# Distance to cluster function"
   ]
  },
  {
   "cell_type": "code",
   "execution_count": null,
   "metadata": {},
   "outputs": [],
   "source": [
    "def auxiliarFunction(documents, dimensions, number_topics):\n",
    "\n",
    "    counter_docs = [0 for x in range(0,number_topics)]\n",
    "    \n",
    "    distance_to_cluster_2 = [0 for x in range(0,number_topics)] # distances to cluster\n",
    "    \n",
    "    for document in documents: \n",
    "        distance_to_cluster = []   \n",
    "        counter = 0\n",
    "        for dim in range(0,number_topics): \n",
    "            distance_to_cluster.append(np.linalg.norm(document-dimensions[counter:counter+7]))\n",
    "            counter = counter + 7\n",
    "            \n",
    "        best_distance_index = distance_to_cluster.index(min(distance_to_cluster)) \n",
    "        \n",
    "        counter_docs[best_distance_index] += 1\n",
    "    \n",
    "        distance_to_cluster_2[best_distance_index] += pow(distance_to_cluster[best_distance_index], 2)\n",
    "        \n",
    "     \n",
    "    return counter_docs, distance_to_cluster_2"
   ]
  },
  {
   "cell_type": "code",
   "execution_count": null,
   "metadata": {},
   "outputs": [],
   "source": [
    "def fobjQuadraticError(k):\n",
    "\n",
    "    num_topics = int((len(k))/7)\n",
    "    \n",
    "    counter_documents, euclidean_dist_2 = auxiliarFunction(documents = matrix_algorithm, dimensions= k, number_topics = num_topics)\n",
    "    \n",
    "    bool_check = 0 in counter_documents    \n",
    "\n",
    "    if(bool_check):\n",
    "        total_value = 5 \n",
    "        \n",
    "    else:\n",
    "        value1 = 0\n",
    "        for i in range(0,num_topics): \n",
    "            value2 = euclidean_dist_2[i] \n",
    "            value1 += ((1/counter_documents[i])*value2)\n",
    "\n",
    "        total_value = (value1 / num_topics) \n",
    "\n",
    "    return (total_value),"
   ]
  },
  {
   "cell_type": "markdown",
   "metadata": {},
   "source": [
    "# Genetic Algorithm"
   ]
  },
  {
   "cell_type": "markdown",
   "metadata": {},
   "source": [
    "## Folders"
   ]
  },
  {
   "cell_type": "code",
   "execution_count": null,
   "metadata": {},
   "outputs": [],
   "source": [
    "path = \"./results/fobjQuadraticError\"\n",
    "try:\n",
    "    if not os.path.isdir(path):\n",
    "        os.makedirs(path)\n",
    "except OSError:\n",
    "    print (\"Creation of the directory %s failed\" % path)\n",
    "else:\n",
    "    print (\"Successfully created the directory %s \" % path)"
   ]
  },
  {
   "cell_type": "markdown",
   "metadata": {},
   "source": [
    "## Save results "
   ]
  },
  {
   "cell_type": "code",
   "execution_count": null,
   "metadata": {},
   "outputs": [],
   "source": [
    "if __name__ == \"__main__\":\n",
    "    \n",
    "    CLUSTER_DIM = 7 * NUM_CLUSTERS\n",
    "\n",
    "    creator.create(\"FitnessMin\", base.Fitness, weights=(-1.0,))\n",
    "    creator.create(\"Individual\", list, fitness=creator.FitnessMin)\n",
    "\n",
    "    toolbox = base.Toolbox()\n",
    "\n",
    "    toolbox.register(\"attr_flt\", random.uniform, 0, 1)\n",
    "    toolbox.register(\"individual\", tools.initRepeat, creator.Individual, toolbox.attr_flt,n=CLUSTER_DIM)\n",
    "\n",
    "    toolbox.register(\"population\", tools.initRepeat, list, toolbox.individual)\n",
    "\n",
    "\n",
    "    def customMutate(ind, indpb):\n",
    "        for i in range(len(ind)):\n",
    "            if random.random() < indpb:\n",
    "                ind[i] = random.random()\n",
    "        return ind\n",
    "\n",
    "\n",
    "    def evalfobj(individual):\n",
    "        return fobjQuadraticError(individual)\n",
    "\n",
    "    def evalfobjInertia(individual):\n",
    "        return fobjInertia(individual) \n",
    "\n",
    "\n",
    "    toolbox.register(\"mate\", tools.cxTwoPoint)\n",
    "    toolbox.register(\"mutate\", customMutate, indpb = 0.1)\n",
    "\n",
    "    toolbox.register(\"select\", tools.selTournament, tournsize=30)\n",
    "    \n",
    "    toolbox.register(\"evaluate\", evalfobj)\n",
    "    \n",
    "    pool = multiprocessing.Pool(processes = 4)\n",
    "    toolbox.register('map', pool.map)\n",
    "    \n",
    "    numberInd = 100\n",
    "    \n",
    "    random.seed(169)\n",
    "    min_iterations = []\n",
    "    max_iterations = []\n",
    "    avg_iterations = []\n",
    "    std_iterations = []\n",
    "    ind_iterations = []\n",
    "    \n",
    "    CXPB, MUTPB = 0.8, 0.35\n",
    "    \n",
    "    pop = toolbox.population(n=numberInd)\n",
    "    fitnesses = list(toolbox.map(toolbox.evaluate, pop))\n",
    "    for ind, fit in zip(pop, fitnesses):\n",
    "        ind.fitness.values = fit \n",
    "        \n",
    "    fits = [ind.fitness.values[0] for ind in pop] \n",
    "    \n",
    "    t = 0\n",
    "    g = 0\n",
    "    # Begin the evolution\n",
    "    while g < 4000:\n",
    " \n",
    "        start_time = time()\n",
    "    \n",
    "        # A new generation\n",
    "        g = g + 1\n",
    "        print(\"-- Generation %i --\" % g)\n",
    "\n",
    "        offspring = toolbox.select(pop, len(pop))\n",
    "\n",
    "        offspring = list(map(toolbox.clone, offspring))\n",
    "\n",
    "        for child1, child2 in zip(offspring[::2], offspring[1::2]): \n",
    "            if random.random() < CXPB:\n",
    "                toolbox.mate(child1, child2)\n",
    "                del child1.fitness.values \n",
    "                del child2.fitness.values \n",
    "                \n",
    "        for mutant in offspring:\n",
    "            if random.random() < MUTPB:\n",
    "                toolbox.mutate(mutant)\n",
    "                del mutant.fitness.values  \n",
    "\n",
    "        invalid_ind = [ind for ind in offspring if not ind.fitness.valid]\n",
    "        fitnesses = toolbox.map(toolbox.evaluate, invalid_ind)\n",
    "            \n",
    "        for ind, fit in zip(invalid_ind, fitnesses):\n",
    "            ind.fitness.values = fit\n",
    "                        \n",
    "        fit_maxi = 100000000000000000000\n",
    "        individ = []\n",
    "        for ind in pop:\n",
    "            if (ind.fitness.values[0]<fit_maxi):\n",
    "                fit_maxi = ind.fitness.values[0]\n",
    "                individ = ind\n",
    "\n",
    "        pop[:] = offspring\n",
    "\n",
    "        \n",
    "        fits = [ind.fitness.values[0] for ind in pop]\n",
    "            \n",
    "        length = len(pop)\n",
    "        mean = sum(fits) / length\n",
    "        sum2 = sum(x*x for x in fits)\n",
    "        std = abs(sum2 / length - mean**2)**0.5\n",
    "        print(\"  Min %s\" % min(fits))\n",
    "  \n",
    "        \n",
    "        min_iterations.append(min(fits))\n",
    "        max_iterations.append(max(fits))\n",
    "        avg_iterations.append(mean)\n",
    "        std_iterations.append(std)\n",
    "        ind_iterations.append(individ)\n",
    "        \n",
    "        if (g % 200 == 0):\n",
    "            path = \"./results/fobjQuadraticError/iteration{}\".format(g)\n",
    "            try:\n",
    "                if not os.path.isdir(path):\n",
    "                    os.makedirs(path)\n",
    "            except OSError:\n",
    "                print (\"Creation of the directory %s failed\" % path)\n",
    "            else:\n",
    "                print (\"Successfully created the directory %s \" % path)\n",
    "        \n",
    "            print(\"-----------------------------------------------------------------------------------------\")\n",
    "            print(\"Guardamos valores\")\n",
    "            joblib.dump(min_iterations, \"results/fobjQuadraticError/iteration{}/best_gen_fitness_iter{}.pkl\".format(g, g))\n",
    "            joblib.dump(max_iterations, \"results/fobjQuadraticError/iteration{}/worst_gen_fitness_iter{}.pkl\".format(g, g))\n",
    "            joblib.dump(avg_iterations, \"results/fobjQuadraticError/iteration{}/mean_gen_fitness_iter{}.pkl\".format(g, g))\n",
    "            joblib.dump(std_iterations, \"results/fobjQuadraticError/iteration{}/std_gen_fitness_iter{}.pkl\".format(g, g))\n",
    "            joblib.dump(ind_iterations, \"results/fobjQuadraticError/iteration{}/best_gen_individuals_iter{}.pkl\".format(g, g))\n",
    "            joblib.dump(pop[:], \"results/fobjQuadraticError/iteration{}/last_pop{}.pkl\".format(g, g))\n",
    "\n",
    "            print('-----------------------------------------------------------------------------------------')\n",
    "\n",
    "        print(\"--- {} s seconds to perform iteration number: {} ---\".format((time() - start_time), g))\n",
    "            \n",
    "    #best = pop[np.argmin([toolbox.evaluate(x) for x in pop])]\n",
    "    final_pop = pop[:]\n",
    "    \n",
    "    joblib.dump(min_iterations, \"results/fobjQuadraticError/best_gen_fitness_iter{}.pkl\".format(4000))\n",
    "    joblib.dump(max_iterations, \"results/fobjQuadraticError/worst_gen_fitness_iter{}.pkl\".format(4000))\n",
    "    joblib.dump(avg_iterations, \"results/fobjQuadraticError/mean_gen_fitness_iter{}.pkl\".format(4000))\n",
    "    joblib.dump(std_iterations, \"results/fobjQuadraticError/std_gen_fitness_iter{}.pkl\".format(4000))\n",
    "    joblib.dump(ind_iterations, \"results/fobjQuadraticError/best_gen_individuals_iter{}.pkl\".format(4000))\n",
    "    joblib.dump(final_pop, \"results/fobjQuadraticError/final_pop_iter{}.pkl\".format(4000))\n"
   ]
  }
 ],
 "metadata": {
  "kernelspec": {
   "display_name": "Python 3",
   "language": "python",
   "name": "python3"
  },
  "language_info": {
   "codemirror_mode": {
    "name": "ipython",
    "version": 3
   },
   "file_extension": ".py",
   "mimetype": "text/x-python",
   "name": "python",
   "nbconvert_exporter": "python",
   "pygments_lexer": "ipython3",
   "version": "3.8.8"
  },
  "toc": {
   "base_numbering": 1,
   "nav_menu": {},
   "number_sections": true,
   "sideBar": true,
   "skip_h1_title": false,
   "title_cell": "Table of Contents",
   "title_sidebar": "Contents",
   "toc_cell": false,
   "toc_position": {},
   "toc_section_display": true,
   "toc_window_display": false
  },
  "varInspector": {
   "cols": {
    "lenName": 16,
    "lenType": 16,
    "lenVar": 40
   },
   "kernels_config": {
    "python": {
     "delete_cmd_postfix": "",
     "delete_cmd_prefix": "del ",
     "library": "var_list.py",
     "varRefreshCmd": "print(var_dic_list())"
    },
    "r": {
     "delete_cmd_postfix": ") ",
     "delete_cmd_prefix": "rm(",
     "library": "var_list.r",
     "varRefreshCmd": "cat(var_dic_list()) "
    }
   },
   "types_to_exclude": [
    "module",
    "function",
    "builtin_function_or_method",
    "instance",
    "_Feature"
   ],
   "window_display": false
  }
 },
 "nbformat": 4,
 "nbformat_minor": 4
}
