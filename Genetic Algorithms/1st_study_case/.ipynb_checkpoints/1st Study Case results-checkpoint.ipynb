{
 "cells": [
  {
   "cell_type": "code",
   "execution_count": 1,
   "id": "dffb342e",
   "metadata": {},
   "outputs": [],
   "source": [
    "import numpy as np\n",
    "import matplotlib.pyplot as plt\n",
    "\n",
    "import joblib\n",
    "\n",
    "import random\n",
    "from deap import base\n",
    "from deap import creator\n",
    "from deap import tools\n",
    "\n",
    "from deap import algorithms\n",
    "from time import time\n",
    "import multiprocessing\n",
    "\n",
    "import array\n",
    "import random\n",
    "import json\n",
    "\n",
    "import os\n",
    "\n",
    "import pandas as pd\n"
   ]
  },
  {
   "cell_type": "code",
   "execution_count": 2,
   "id": "28caf710",
   "metadata": {},
   "outputs": [],
   "source": [
    "def auxiliarFunction(documents, dimensions, number_topics):\n",
    "\n",
    "    counter_docs = [0 for x in range(0,number_topics)]\n",
    "    \n",
    "    distance_to_cluster_2 = [0 for x in range(0,number_topics)] # distances to cluster\n",
    "    \n",
    "    for document in documents: \n",
    "        distance_to_cluster = []   \n",
    "        counter = 0\n",
    "        for dim in range(0,number_topics): \n",
    "            distance_to_cluster.append(np.linalg.norm(document-dimensions[counter:counter+7]))\n",
    "            counter = counter + 7\n",
    "            \n",
    "        best_distance_index = distance_to_cluster.index(min(distance_to_cluster)) \n",
    "        \n",
    "        counter_docs[best_distance_index] += 1\n",
    "    \n",
    "        distance_to_cluster_2[best_distance_index] += pow(distance_to_cluster[best_distance_index], 2)\n",
    "        \n",
    "     \n",
    "    return counter_docs, distance_to_cluster_2\n",
    "\n",
    "\n",
    "def fobjQuadraticError(k):\n",
    "\n",
    "    num_topics = int((len(k))/7)\n",
    "    \n",
    "    # 1º Number of documents to each cluster\n",
    "    counter_documents, euclidean_dist_2 = auxiliarFunction(documents = matrix_algorithm, dimensions= k, number_topics = num_topics)\n",
    "    \n",
    "    bool_check = 0 in counter_documents    \n",
    "\n",
    "   # 2º Fitness fuction\n",
    "    if(bool_check):\n",
    "        total_value = 5 # We give a high value to those clusters who do not have documents\n",
    "        \n",
    "    else:\n",
    "        value1 = 0\n",
    "        for i in range(0,num_topics): #para cada uno de los clusters\n",
    "            value2 = euclidean_dist_2[i] \n",
    "            value1 += ((1/counter_documents[i])*value2)\n",
    "\n",
    "        total_value = (value1 / num_topics) \n",
    "\n",
    "    return (total_value),\n",
    "\n",
    "\n",
    "CLUSTER_DIM = 7 * 7\n",
    "\n",
    "creator.create(\"FitnessMin\", base.Fitness, weights=(-1.0,))\n",
    "creator.create(\"Individual\", list, fitness=creator.FitnessMin)\n",
    "\n",
    "toolbox = base.Toolbox()\n",
    "\n",
    "toolbox.register(\"attr_flt\", random.uniform, 0, 1)\n",
    "toolbox.register(\"individual\", tools.initRepeat, creator.Individual, toolbox.attr_flt,n=CLUSTER_DIM)\n",
    "\n",
    "toolbox.register(\"population\", tools.initRepeat, list, toolbox.individual)\n",
    "\n",
    "\n",
    "def customMutate(ind, indpb):\n",
    "    for i in range(len(ind)):\n",
    "        if random.random() < indpb:\n",
    "            ind[i] = random.random()\n",
    "    return ind\n",
    "\n",
    "\n",
    "def evalfobj(individual):\n",
    "    return fobjQuadraticError(individual)\n",
    "\n",
    "def evalfobjInertia(individual):\n",
    "    return fobjInertia(individual) \n",
    "\n",
    "\n",
    "toolbox.register(\"mate\", tools.cxTwoPoint)\n",
    "toolbox.register(\"mutate\", customMutate, indpb = 0.1)\n",
    "\n",
    "toolbox.register(\"select\", tools.selTournament, tournsize=30)\n",
    "\n",
    "toolbox.register(\"evaluate\", evalfobj)\n",
    "\n",
    "pool = multiprocessing.Pool(processes = 4)\n",
    "toolbox.register('map', pool.map)"
   ]
  },
  {
   "cell_type": "markdown",
   "id": "e67a9c30",
   "metadata": {},
   "source": [
    "## Plot Generations"
   ]
  },
  {
   "cell_type": "code",
   "execution_count": 3,
   "id": "ae86609c",
   "metadata": {},
   "outputs": [
    {
     "data": {
      "image/png": "[encoded data removed]",
      "text/plain": [
       "<Figure size 864x288 with 1 Axes>"
      ]
     },
     "metadata": {
      "needs_background": "light"
     },
     "output_type": "display_data"
    }
   ],
   "source": [
    "# MIN MAX MEAN STD best configuration\n",
    "INDIVIDUALS = 2000\n",
    "min_iterations = joblib.load(\"7 Topics v2/results/fobjQuadraticError/iteration{}/best_gen_fitness_iter{}.pkl\".format(INDIVIDUALS,INDIVIDUALS))\n",
    "max_iterations = joblib.load(\"7 Topics v2/results/fobjQuadraticError/iteration{}/worst_gen_fitness_iter{}.pkl\".format(INDIVIDUALS,INDIVIDUALS))\n",
    "avg_iterations = joblib.load(\"7 Topics v2/results/fobjQuadraticError/iteration{}/mean_gen_fitness_iter{}.pkl\".format(INDIVIDUALS,INDIVIDUALS))\n",
    "std_iterations = joblib.load(\"7 Topics v2/results/fobjQuadraticError/iteration{}/std_gen_fitness_iter{}.pkl\".format(INDIVIDUALS,INDIVIDUALS))\n",
    "ind_iterations = joblib.load(\"7 Topics v2/results/fobjQuadraticError/iteration{}/best_gen_individuals_iter{}.pkl\".format(INDIVIDUALS,INDIVIDUALS))\n",
    "\n",
    "min_iterations = np.array(min_iterations)\n",
    "min_iterations = np.log10(min_iterations)\n",
    "\n",
    "\n",
    "x = range(0, len(min_iterations))\n",
    "\n",
    "plt.figure(figsize=(12,4))\n",
    "\n",
    "plt.plot(x, min_iterations, 'blue', label = 'Best Individual')\n",
    "#plt.plot(x, max_iterations, 'black', label = 'Worst Individual')\n",
    "#plt.plot(x, avg_iterations, 'red', label = 'Average Individuals')\n",
    "#plt.plot(x, std_iterations, 'orange', label = 'Standard Deviation')\n",
    "\n",
    "plt.grid(True,color='black')\n",
    "plt.xlabel(\"Generations\", fontsize=15)\n",
    "#plt.xticks(np.arange(0, 201, step=25), fontsize = 10)\n",
    "#plt.yticks(np.arange(0.083, 0.18, step=0.005))\n",
    "#plt.xlim([2, 300])\n",
    "plt.ylabel(\"log10(Fitness value)\", fontsize=12)\n",
    "plt.title('Genetic Algorithm performance', fontsize=15)\n",
    "leg = plt.legend(loc='best', fontsize=12)\n",
    "plt.show()"
   ]
  },
  {
   "cell_type": "code",
   "execution_count": null,
   "id": "02403d7c",
   "metadata": {},
   "outputs": [],
   "source": []
  }
 ],
 "metadata": {
  "kernelspec": {
   "display_name": "Python 3",
   "language": "python",
   "name": "python3"
  },
  "language_info": {
   "codemirror_mode": {
    "name": "ipython",
    "version": 3
   },
   "file_extension": ".py",
   "mimetype": "text/x-python",
   "name": "python",
   "nbconvert_exporter": "python",
   "pygments_lexer": "ipython3",
   "version": "3.8.8"
  },
  "toc": {
   "base_numbering": 1,
   "nav_menu": {},
   "number_sections": true,
   "sideBar": true,
   "skip_h1_title": false,
   "title_cell": "Table of Contents",
   "title_sidebar": "Contents",
   "toc_cell": false,
   "toc_position": {},
   "toc_section_display": true,
   "toc_window_display": false
  },
  "varInspector": {
   "cols": {
    "lenName": 16,
    "lenType": 16,
    "lenVar": 40
   },
   "kernels_config": {
    "python": {
     "delete_cmd_postfix": "",
     "delete_cmd_prefix": "del ",
     "library": "var_list.py",
     "varRefreshCmd": "print(var_dic_list())"
    },
    "r": {
     "delete_cmd_postfix": ") ",
     "delete_cmd_prefix": "rm(",
     "library": "var_list.r",
     "varRefreshCmd": "cat(var_dic_list()) "
    }
   },
   "types_to_exclude": [
    "module",
    "function",
    "builtin_function_or_method",
    "instance",
    "_Feature"
   ],
   "window_display": false
  }
 },
 "nbformat": 4,
 "nbformat_minor": 5
}
