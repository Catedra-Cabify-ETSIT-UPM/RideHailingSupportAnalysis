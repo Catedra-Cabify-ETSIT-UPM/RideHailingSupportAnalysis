{
 "cells": [
  {
   "cell_type": "code",
   "execution_count": 3,
   "metadata": {},
   "outputs": [],
   "source": [
    "import numpy as np\n",
    "import random \n",
    "import joblib\n",
    "import gensim.corpora as corpora\n",
    "\n",
    "import scipy.special as sp\n",
    "import matplotlib.pyplot as plt\n",
    "from gensim.corpora import MmCorpus\n",
    "\n",
    "\n",
    "import os\n",
    "\n",
    "from mpmath import *\n",
    "mp.dps = 20; mp.pretty = True\n",
    "\n",
    "import time "
   ]
  },
  {
   "cell_type": "markdown",
   "metadata": {},
   "source": [
    "# Corpus"
   ]
  },
  {
   "cell_type": "code",
   "execution_count": 4,
   "metadata": {},
   "outputs": [],
   "source": [
    "corpus = MmCorpus(\"results/variables/corpus.corp\")"
   ]
  },
  {
   "cell_type": "markdown",
   "metadata": {},
   "source": [
    "# Number of themes"
   ]
  },
  {
   "cell_type": "code",
   "execution_count": 5,
   "metadata": {},
   "outputs": [],
   "source": [
    "NUMBER_OF_THEMES = 10"
   ]
  },
  {
   "cell_type": "markdown",
   "metadata": {},
   "source": [
    "# Dictionary of corpus"
   ]
  },
  {
   "cell_type": "code",
   "execution_count": 6,
   "metadata": {},
   "outputs": [],
   "source": [
    "variables = 'variables'\n",
    "if not os.path.isdir(variables):\n",
    "    os.mkdir(variables)"
   ]
  },
  {
   "cell_type": "code",
   "execution_count": 7,
   "metadata": {},
   "outputs": [
    {
     "name": "stdout",
     "output_type": "stream",
     "text": [
      "Dictionary(7950 unique tokens: ['cada', 'cumplimentar', 'dato', 'debidamente', 'estimar']...)\n"
     ]
    }
   ],
   "source": [
    "dictionary = corpora.Dictionary(tweets)\n",
    "dictionary.save('variables/dictionary.dict')\n",
    "print(dictionary)"
   ]
  },
  {
   "cell_type": "code",
   "execution_count": 8,
   "metadata": {},
   "outputs": [],
   "source": [
    "words = []\n",
    "for i in dictionary:\n",
    "    words += [dictionary.get(i)] \n",
    "   "
   ]
  },
  {
   "cell_type": "markdown",
   "metadata": {},
   "source": [
    "# Gibbs initial conditions"
   ]
  },
  {
   "cell_type": "code",
   "execution_count": 9,
   "metadata": {},
   "outputs": [],
   "source": [
    "# Le ponemos a cada palabra dentro de cada tweet un valor de tema (aleatorio)\n",
    "from random import randint\n",
    "def initialConditions(list_tweets, num_themes):\n",
    "    \"\"\"\n",
    "    list_tweets: array that contain every word from the corpus\n",
    "    num_themes: number of themes to calculate\n",
    "    \n",
    "    return: array with tuples (word, theme) from the corpus\n",
    "    \"\"\"\n",
    "    list_a = []\n",
    "    list_b = []\n",
    "    tweets_tuple = []\n",
    "    for arr in list_tweets:\n",
    "        list_a = arr\n",
    "        list_b = [randint(1,num_themes) for x in range(len(arr))]\n",
    "        tweets_tuple.append(list(zip(list_a, list_b)))\n",
    "        \n",
    "    return tweets_tuple\n",
    "\n",
    "tweets_tuple = initialConditions(tweets, NUMBER_OF_THEMES)"
   ]
  },
  {
   "cell_type": "code",
   "execution_count": 10,
   "metadata": {
    "scrolled": false
   },
   "outputs": [],
   "source": [
    "def initialTable(words, tweets_tuple, num_themes):\n",
    "    keys = []\n",
    "    table = {}\n",
    "    \n",
    "    for word in words:\n",
    "        keys.append(word)\n",
    "\n",
    "    for k in keys:\n",
    "        values = [0 for x in range(0,num_themes)]\n",
    "        table[k] = values\n",
    "    \n",
    "    for tweet in tweets_tuple:\n",
    "        for word in tweet:\n",
    "            t = word[1]\n",
    "            w = word[0]\n",
    "            table[w][t-1] = table[w][t-1] + 1\n",
    "    \n",
    "    return table\n",
    "\n",
    "table_words = initialTable(words, tweets_tuple, NUMBER_OF_THEMES)            \n",
    "                    "
   ]
  },
  {
   "cell_type": "code",
   "execution_count": 11,
   "metadata": {},
   "outputs": [
    {
     "data": {
      "text/plain": [
       "['variables/table_words_inicial.pkl']"
      ]
     },
     "execution_count": 11,
     "metadata": {},
     "output_type": "execute_result"
    }
   ],
   "source": [
    "joblib.dump(table_words, \"variables/table_words_inicial.pkl\")"
   ]
  },
  {
   "cell_type": "code",
   "execution_count": 12,
   "metadata": {},
   "outputs": [
    {
     "data": {
      "text/plain": [
       "['variables/tweets_tuple_inicial.pkl']"
      ]
     },
     "execution_count": 12,
     "metadata": {},
     "output_type": "execute_result"
    }
   ],
   "source": [
    "joblib.dump(tweets_tuple, \"variables/tweets_tuple_inicial.pkl\")"
   ]
  },
  {
   "cell_type": "markdown",
   "metadata": {},
   "source": [
    "# Load Initial variables"
   ]
  },
  {
   "cell_type": "code",
   "execution_count": 13,
   "metadata": {},
   "outputs": [],
   "source": [
    "#table_words = joblib.load(\"variables/table_words.pkl\")\n",
    "#tweets_tuple = joblib.load(\"variables/tweets_tuple_inicial.pkl\")"
   ]
  },
  {
   "cell_type": "markdown",
   "metadata": {},
   "source": [
    "# Likelihood function"
   ]
  },
  {
   "cell_type": "code",
   "execution_count": 14,
   "metadata": {},
   "outputs": [],
   "source": [
    "def loglikelihood (words, beta, number_of_themes, table, num_words_theme, constant_value):\n",
    "    \"\"\"\n",
    "    words: array that contains the dictionary\n",
    "    beta: hyperparameter beta\n",
    "    number_of_themes: integer that represents the number of themes\n",
    "    table: dictionary that contains words (keys) and number of times a theme was assigned (values) (array)\n",
    "    \n",
    "    \n",
    "    likehood: likelihood value p(w|z)\n",
    "    \"\"\"\n",
    "\n",
    "    #calculamos term_b\n",
    "    num_themes = [x for x in range(1, number_of_themes + 1)] # [1,2,3]\n",
    "    theme_productory = np.array([])\n",
    "    \n",
    "    for t in num_themes:         \n",
    "        dic_values_array = list(table.values()) \n",
    "        word_productory = list(zip(*dic_values_array))[t-1]\n",
    "        \n",
    "        word_productory = list(map(lambda x : log(gamma(x + beta)), word_productory)) \n",
    "                \n",
    "        term_aux1 = np.sum(word_productory)\n",
    "        term_aux2 = log(gamma(num_words_theme[t-1] + (len(words) * beta)))\n",
    "        res = (term_aux1 - term_aux2)\n",
    "        \n",
    "        theme_productory = np.append(theme_productory, res) \n",
    "        \n",
    "    \n",
    "    term_b = np.sum(theme_productory)\n",
    "    \n",
    "    likelihood_value = constant_value + term_b\n",
    "        \n",
    "    return likelihood_value\n",
    "    \n"
   ]
  },
  {
   "cell_type": "markdown",
   "metadata": {},
   "source": [
    "# Gibbs sampling"
   ]
  },
  {
   "cell_type": "code",
   "execution_count": 15,
   "metadata": {},
   "outputs": [],
   "source": [
    "def gibbs_sampling(tweets_tuple, words, table, number_of_themes):\n",
    "    likelihood_values = []\n",
    "    num_themes = [x for x in range(1, number_of_themes + 1)] \n",
    "    #num_word_theme = []\n",
    "    alpha = (50/number_of_themes)\n",
    "    beta = 0.1\n",
    "    num_words_theme = [0 for x in range(0,number_of_themes)] \n",
    "    \n",
    "    # Tweets con maximo likelihood\n",
    "    tweet_tuple_max = []\n",
    "    iter_max = 0\n",
    "    like_max = 0\n",
    "    \n",
    "    #Calculamos term_a que es siempre constante por lo que se puede sacar de la iteracion\n",
    "    term_1 = log(gamma(len(words) * beta))\n",
    "    term_2 = len(words)*log(gamma(beta))\n",
    "    term_a = number_of_themes*(term_1-term_2)\n",
    "\n",
    "    #Creamos la suma de palabras con el mismo tema\n",
    "    for t in num_themes:\n",
    "        for word in table:\n",
    "            num_words_theme[t-1] = num_words_theme[t-1] + table[word][t-1]      \n",
    "        \n",
    "    \n",
    "    for iteration in range(0,1000):\n",
    "       # start_time = time.time() \n",
    "        #np.seterr('raise')\n",
    "       # print(iteration)\n",
    "        if(iteration == (1000/4) ):\n",
    "            print(\"25% completed\")\n",
    "        if(iteration == (1000/2)):\n",
    "            print(\"50% completed\")\n",
    "        if(iteration == (1000*3/4)):\n",
    "            print(\"75% completed\")\n",
    "        if(iteration == (999)):\n",
    "            print(\"100% completed\")        \n",
    "        \n",
    "        sum_words_tweet = 0\n",
    "        tweet_position = 0    \n",
    "        for tweet in tweets_tuple: \n",
    "            word_position = 0 #posicion de la palabra (tweet)\n",
    "            sum_words_tweet = len(tweet) - 1 \n",
    "\n",
    "            for word in tweet: #Para cada tupla\n",
    "                # Pongo a 0 el tema de la palabra seleccionada            \n",
    "                theme_word = 0\n",
    "                word_list = list(word)\n",
    "                theme_word = word_list[1] # me guardo el valor del tema OJO QUE TIENE QUE SER TEMA -1 ya que estamos con listas\n",
    "                word_list[1] = 0 # Pongo a 0 el tema de la palabra \n",
    "                word = tuple(word_list)  \n",
    "                                \n",
    "                # Resto -1 en la tabla (fila: palabra, columna:tema que tenía antes de darle valor 0)\n",
    "                table[word[0]][theme_word-1] = table[word[0]][theme_word-1] - 1 \n",
    "                \n",
    "                # Resto -1 a la tabla sumatorio de los temas\n",
    "                num_words_theme[theme_word-1] = num_words_theme[theme_word-1] - 1 \n",
    "                \n",
    "                # Condiciones iniciales para calculo de term_1\n",
    "                theme_counter = [0 for x in range(0,number_of_themes)] #[0, 0, 0] guardamos el numero de veces que el tema k aparece en el tweet d\n",
    "                prob_word_theme = [] # Array que contiene la probabilidad de que la palabra pertenezca a tema x [x1, x2, x3...]\n",
    "                \n",
    "                # Necesito el numero de veces que el tema t aparece en el tweet (sin contar el tema de la palabra a analizar) \n",
    "                word_position2 = 0 # Puede haber 2 palabaras iguales => Contamos posiciones en el array\n",
    "                for word2 in tweet:\n",
    "                    if(word_position == word_position2):\n",
    "                        word_position2 = word_position2 + 1\n",
    "                        continue\n",
    "                    else:\n",
    "                        tem = word2[1]\n",
    "                        theme_counter[tem-1] = theme_counter[tem-1] + 1\n",
    "                                \n",
    "                    word_position2 = word_position2 + 1\n",
    "                                    \n",
    "                \n",
    "                # Para cada uno de los temas que hay \n",
    "                for t in num_themes: #recorres 1, 2, 3 (los temas 1 2 3)\n",
    "                    \n",
    "                    # Sacamos termino ndk+alpha/sum(ndk)+talpha\n",
    "                    term_1 = ((theme_counter[t-1] + alpha) / (sum_words_tweet + number_of_themes*alpha))\n",
    "\n",
    "                    # Sacamos termino vkw+bw/sum(v)+wb\n",
    "                    term_2 = ((table[word[0]][t-1] + beta) / (num_words_theme[t-1] + (len(words)*beta)))  \n",
    "\n",
    "                    # Multiplicamos ambos terminos\n",
    "                    prob_word_theme.append(term_1*term_2)\n",
    "                    \n",
    "                    \n",
    "                #Elegimos aleatoriamente\n",
    "                new_theme_word = int(random.choices(num_themes, weights=prob_word_theme, k=1)[0])\n",
    "\n",
    "                #Asignamos el tema a la palabra\n",
    "                # Pongo a new_word_theme la palabra seleccionada\n",
    "                word_list = list(word)\n",
    "                theme_word = new_theme_word # me guardo el valor del tema OJO QUE TIENE QUE SER TEMA -1 ya que estamos con listas\n",
    "                word_list[1] = new_theme_word # Pongo a new_theme_word el tema de la palabra \n",
    "                word = tuple(word_list)  \n",
    "\n",
    "                tweets_tuple[tweet_position][word_position] = word  \n",
    "                                \n",
    "                #Actualizamos tabla\n",
    "                table[word[0]][theme_word-1] = table[word[0]][theme_word-1] + 1\n",
    "                                                                                   \n",
    "                                                                                  \n",
    "                #Actualizamos el array con suma de temas\n",
    "                num_words_theme[theme_word-1] = num_words_theme[theme_word-1] + 1 \n",
    "                                                                                   \n",
    "                                                                                   \n",
    "                # Nos vamos a la siguiente palabra\n",
    "                word_position = word_position + 1\n",
    "                \n",
    "        \n",
    "            tweet_position = tweet_position + 1\n",
    "\n",
    "        likelihood_value = loglikelihood(words = words, beta = beta, number_of_themes = number_of_themes, table= table, num_words_theme=num_words_theme, constant_value=term_a)\n",
    "        #Extraemos el corpus con mayor likelihood\n",
    "        if(iteration > 0):\n",
    "            if(likelihood_value > likelihood_values[len(likelihood_values)-1]):   \n",
    "                tweet_tuple_max = tweets_tuple\n",
    "                iter_max = iteration\n",
    "        \n",
    "        likelihood_values.append(likelihood_value)\n",
    "        #print(likelihood_values)\n",
    "        \n",
    "        #end_time = time.time()\n",
    "        #print(\"--- %s seconds/ALEJANDRO's PC ---\" % (end_time - start_time)) \n",
    "\n",
    "        \n",
    "        \n",
    "        \n",
    "        \n",
    "    return tweets_tuple, likelihood_values, iter_max, tweet_tuple_max"
   ]
  },
  {
   "cell_type": "code",
   "execution_count": 16,
   "metadata": {
    "scrolled": true
   },
   "outputs": [
    {
     "name": "stdout",
     "output_type": "stream",
     "text": [
      "25% completed\n",
      "50% completed\n",
      "75% completed\n",
      "100% completed\n"
     ]
    }
   ],
   "source": [
    "tweets_tuple, likelihood_values, iter_max, tweet_tuple_max= gibbs_sampling(tweets_tuple = tweets_tuple, words = words, table = table_words, number_of_themes = NUMBER_OF_THEMES)\n"
   ]
  },
  {
   "cell_type": "markdown",
   "metadata": {},
   "source": [
    "# Test section"
   ]
  },
  {
   "cell_type": "markdown",
   "metadata": {},
   "source": [
    "## Likelihood"
   ]
  },
  {
   "cell_type": "code",
   "execution_count": 17,
   "metadata": {},
   "outputs": [
    {
     "data": {
      "image/png": "[encoded data removed]",
      "text/plain": [
       "<Figure size 432x288 with 1 Axes>"
      ]
     },
     "metadata": {
      "needs_background": "light"
     },
     "output_type": "display_data"
    }
   ],
   "source": [
    "y = range(0, len(likelihood_values))\n",
    "\n",
    "plt.plot(likelihood_values, y, 'b', label = 'model1')\n",
    "plt.title(\"Log likelihood\")\n",
    "plt.xlabel(\"log P(w|z)\")\n",
    "plt.ylabel(\"Iteration\")\n",
    "plt.grid(True,color='black')\n",
    "\n",
    "leg = plt.legend(loc = 2);\n",
    "plt.show()"
   ]
  },
  {
   "cell_type": "markdown",
   "metadata": {},
   "source": [
    "# Save variables"
   ]
  },
  {
   "cell_type": "code",
   "execution_count": 20,
   "metadata": {},
   "outputs": [
    {
     "data": {
      "text/plain": [
       "['variables/tweet_tuple_final.pkl']"
      ]
     },
     "execution_count": 20,
     "metadata": {},
     "output_type": "execute_result"
    }
   ],
   "source": [
    "joblib.dump(likelihood_values, \"variables/likelihood_values.pkl\")\n",
    "joblib.dump(table_words, \"variables/table_words_final.pkl\")\n",
    "joblib.dump(tweet_tuple_max, \"variables/tweet_tuple_final.pkl\")\n",
    "\n",
    "\n",
    " "
   ]
  }
 ],
 "metadata": {
  "kernelspec": {
   "display_name": "Python 3",
   "language": "python",
   "name": "python3"
  },
  "language_info": {
   "codemirror_mode": {
    "name": "ipython",
    "version": 3
   },
   "file_extension": ".py",
   "mimetype": "text/x-python",
   "name": "python",
   "nbconvert_exporter": "python",
   "pygments_lexer": "ipython3",
   "version": "3.8.8"
  },
  "toc": {
   "base_numbering": 1,
   "nav_menu": {},
   "number_sections": true,
   "sideBar": true,
   "skip_h1_title": false,
   "title_cell": "Table of Contents",
   "title_sidebar": "Contents",
   "toc_cell": false,
   "toc_position": {},
   "toc_section_display": true,
   "toc_window_display": false
  },
  "varInspector": {
   "cols": {
    "lenName": 16,
    "lenType": 16,
    "lenVar": 40
   },
   "kernels_config": {
    "python": {
     "delete_cmd_postfix": "",
     "delete_cmd_prefix": "del ",
     "library": "var_list.py",
     "varRefreshCmd": "print(var_dic_list())"
    },
    "r": {
     "delete_cmd_postfix": ") ",
     "delete_cmd_prefix": "rm(",
     "library": "var_list.r",
     "varRefreshCmd": "cat(var_dic_list()) "
    }
   },
   "types_to_exclude": [
    "module",
    "function",
    "builtin_function_or_method",
    "instance",
    "_Feature"
   ],
   "window_display": false
  }
 },
 "nbformat": 4,
 "nbformat_minor": 4
}
